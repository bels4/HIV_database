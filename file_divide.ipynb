{
 "cells": [
  {
   "cell_type": "code",
   "execution_count": 74,
   "metadata": {},
   "outputs": [],
   "source": [
    "import os\n",
    "import sys\n",
    "import re\n",
    "import shutil\n",
    "from Bio import SeqIO\n",
    "from Bio.Seq import Seq\n",
    "from Bio.SeqRecord import SeqRecord\n",
    "from shutil import copyfile"
   ]
  },
  {
   "cell_type": "markdown",
   "metadata": {},
   "source": [
    "## Yue"
   ]
  },
  {
   "cell_type": "code",
   "execution_count": 50,
   "metadata": {
    "scrolled": true
   },
   "outputs": [
    {
     "name": "stdout",
     "output_type": "stream",
     "text": [
      "Hello! I am downloading data. Please wait.\n",
      "^C\n"
     ]
    }
   ],
   "source": [
    "!./download_script.sh KP 223797 223843"
   ]
  },
  {
   "cell_type": "code",
   "execution_count": 52,
   "metadata": {},
   "outputs": [
    {
     "name": "stdout",
     "output_type": "stream",
     "text": [
      "\u001b[0m\u001b[01;32mdownload_script.sh\u001b[0m*  file_divide.ipynb  \u001b[01;34mYue\u001b[0m/\r\n"
     ]
    }
   ],
   "source": [
    "%ls"
   ]
  },
  {
   "cell_type": "code",
   "execution_count": 53,
   "metadata": {},
   "outputs": [],
   "source": [
    "r_880, r_463 = os.listdir('Yue')"
   ]
  },
  {
   "cell_type": "markdown",
   "metadata": {},
   "source": [
    "### Dealing with R880F"
   ]
  },
  {
   "cell_type": "code",
   "execution_count": 73,
   "metadata": {
    "scrolled": true
   },
   "outputs": [
    {
     "data": {
      "text/plain": [
       "['KP223797.gb', 'KP223798.gb', 'KP223799.gb', 'KP223800.gb', 'KP223801.gb']"
      ]
     },
     "execution_count": 73,
     "metadata": {},
     "output_type": "execute_result"
    }
   ],
   "source": [
    "le_files = sorted(os.listdir(f'Yue/{r_880}/LEseq/data'))\n",
    "le_files[0:5]"
   ]
  },
  {
   "cell_type": "code",
   "execution_count": 74,
   "metadata": {},
   "outputs": [],
   "source": [
    "def convert_gb_fa(gb_handle, fa_handle):\n",
    "    for seq_record in SeqIO.parse(gb_handle, \"genbank\") :\n",
    "        print(\"Dealing with GenBank record %s\" % seq_record.id)\n",
    "        for seq_feature in seq_record.features:\n",
    "            if seq_feature.type==\"CDS\" :\n",
    "                assert len(seq_feature.qualifiers['translation'])==1\n",
    "                header = \">db|{0}|{1}_NCOV {2} OS={3}\\n\"\n",
    "                dscrptn = [seq_record.name,\n",
    "                           seq_feature.qualifiers['protein_id'][0],\n",
    "                           seq_feature.qualifiers['product'][0],\n",
    "                           seq_record.annotations['organism']]\n",
    "                fa_handle.write(header.format(*dscrptn))\n",
    "                fa_handle.write(\"{}\\n\".format(seq_feature.qualifiers['translation'][0]))"
   ]
  },
  {
   "cell_type": "code",
   "execution_count": 75,
   "metadata": {},
   "outputs": [],
   "source": [
    "def date_convert(date):\n",
    "    # month_dict = {}\n",
    "    if len(date) == 11:\n",
    "        day = date[0:2]\n",
    "        month = date[3:6]\n",
    "        year = date[7:]\n",
    "        pass\n",
    "    else:\n",
    "        print('Oops')\n",
    "        return"
   ]
  },
  {
   "cell_type": "code",
   "execution_count": 76,
   "metadata": {},
   "outputs": [],
   "source": [
    "div_dict = {}\n",
    "\n",
    "for file in le_files:\n",
    "    for seq_record in SeqIO.parse(f'Yue/{r_880}/LEseq/data/{file}',\"genbank\"):\n",
    "        # print(seq_record.id)\n",
    "        # for seq_feature in seq_record.features:\n",
    "            # if seq_feature.type == 'source':\n",
    "                # print(seq_feature.qualifiers['collection_date'])\n",
    "        seq_id = seq_record.id[:len(seq_record.id)-1] + 'gb'\n",
    "        for seq_feature in seq_record.features:\n",
    "            if seq_feature.type == 'source':\n",
    "                date = seq_feature.qualifiers['collection_date'][0]\n",
    "                #print(date)\n",
    "                if date in div_dict:\n",
    "                    div_dict[date].append(seq_id)\n",
    "                else:\n",
    "                    div_dict[date] = [seq_id]\n",
    "                    \n",
    "#div_dict"
   ]
  },
  {
   "cell_type": "code",
   "execution_count": 77,
   "metadata": {},
   "outputs": [],
   "source": [
    "for date in div_dict.keys():\n",
    "    if not os.path.isdir(f'Yue/{r_880}/LEseq/{date}'):\n",
    "        os.mkdir(f'Yue/{r_880}/LEseq/{date}')\n",
    "    for file in div_dict[date]:\n",
    "        copyfile(f'Yue/{r_880}/LEseq/data/{file}', f'Yue/{r_880}/LEseq/{date}/{file}')"
   ]
  },
  {
   "cell_type": "markdown",
   "metadata": {},
   "source": [
    "### Dealing with R463F"
   ]
  },
  {
   "cell_type": "code",
   "execution_count": 78,
   "metadata": {
    "scrolled": true
   },
   "outputs": [
    {
     "data": {
      "text/plain": [
       "['KP223729.gb', 'KP223730.gb', 'KP223731.gb', 'KP223732.gb', 'KP223733.gb']"
      ]
     },
     "execution_count": 78,
     "metadata": {},
     "output_type": "execute_result"
    }
   ],
   "source": [
    "le_files = sorted(os.listdir(f'Yue/{r_463}/LEseq/data'))\n",
    "le_files[0:5]"
   ]
  },
  {
   "cell_type": "code",
   "execution_count": 79,
   "metadata": {},
   "outputs": [],
   "source": [
    "div_dict = {}\n",
    "\n",
    "for file in le_files:\n",
    "    for seq_record in SeqIO.parse(f'Yue/{r_463}/LEseq/data/{file}',\"genbank\"):\n",
    "        # print(seq_record.id)\n",
    "        # for seq_feature in seq_record.features:\n",
    "            # if seq_feature.type == 'source':\n",
    "                # print(seq_feature.qualifiers['collection_date'])\n",
    "        seq_id = seq_record.id[:len(seq_record.id)-1] + 'gb'\n",
    "        for seq_feature in seq_record.features:\n",
    "            if seq_feature.type == 'source':\n",
    "                date = seq_feature.qualifiers['collection_date'][0]\n",
    "                #print(date)\n",
    "                if date in div_dict:\n",
    "                    div_dict[date].append(seq_id)\n",
    "                else:\n",
    "                    div_dict[date] = [seq_id]\n",
    "                    \n",
    "#div_dict"
   ]
  },
  {
   "cell_type": "code",
   "execution_count": 80,
   "metadata": {},
   "outputs": [],
   "source": [
    "for date in div_dict.keys():\n",
    "    if not os.path.isdir(f'Yue/{r_463}/LEseq/{date}'):\n",
    "        os.mkdir(f'Yue/{r_463}/LEseq/{date}')\n",
    "    for file in div_dict[date]:\n",
    "        copyfile(f'Yue/{r_463}/LEseq/data/{file}', f'Yue/{r_463}/LEseq/{date}/{file}')"
   ]
  },
  {
   "cell_type": "markdown",
   "metadata": {},
   "source": [
    "## Turnbull"
   ]
  },
  {
   "cell_type": "code",
   "execution_count": 63,
   "metadata": {
    "scrolled": true
   },
   "outputs": [
    {
     "data": {
      "text/plain": [
       "['HM586107.gb', 'HM586108.gb', 'HM586109.gb', 'HM586110.gb', 'HM586111.gb']"
      ]
     },
     "execution_count": 63,
     "metadata": {},
     "output_type": "execute_result"
    }
   ],
   "source": [
    "le_files = sorted(os.listdir(f'Turnbull/all_gb_files/'))\n",
    "le_files[0:5]"
   ]
  },
  {
   "cell_type": "code",
   "execution_count": 70,
   "metadata": {},
   "outputs": [],
   "source": [
    "date_day_dict = {}\n",
    "\n",
    "i = 0\n",
    "\n",
    "for file in le_files:\n",
    "    for seq_record in SeqIO.parse(f'Turnbull/all_gb_files/{file}',\"genbank\"):\n",
    "        for seq_feature in seq_record.features:\n",
    "            #print(seq_feature)\n",
    "            if seq_feature.type == 'source':\n",
    "                \n",
    "                #print(seq_feature.qualifiers['isolate'][0])\n",
    "                \n",
    "                patient = re.search(r'MM\\d\\d', seq_feature.qualifiers['isolate'][0])[0]\n",
    "                date_day_dict[patient] = {}\n",
    "                \n",
    "                if re.search(r'd[\\d]*', seq_feature.qualifiers['isolate'][0]) is not None:\n",
    "                    day = re.search(r'd[\\d]*', seq_feature.qualifiers['isolate'][0])[0]\n",
    "                else:\n",
    "                    if re.search(r'D[\\d]*', seq_feature.qualifiers['isolate'][0]) is not None:\n",
    "                        day = re.search(r'D[\\d]*', seq_feature.qualifiers['isolate'][0])[0].lower()\n",
    "                \n",
    "                if not os.path.isdir(f'Turnbull/{patient}'):\n",
    "                    os.mkdir(f'Turnbull/{patient}')\n",
    "                \n",
    "                try:\n",
    "                    date = seq_feature.qualifiers['collection_date'][0]\n",
    "                    if day not in date_day_dict:\n",
    "                        date_day_dict[patient][day] = date\n",
    "                except KeyError:\n",
    "                    if day in date_day_dict:\n",
    "                        date = date_day_dict[patient][day]\n",
    "                \n",
    "                if not os.path.isdir(f'Turnbull/{patient}/{date}'):\n",
    "                    os.mkdir(f'Turnbull/{patient}/{date}')\n",
    "            \n",
    "            if seq_feature.type == 'CDS':\n",
    "                \n",
    "                gene_name = seq_feature.qualifiers['gene'][0]\n",
    "                \n",
    "                if not os.path.isdir(f'Turnbull/{patient}/{date}/{gene_name}'):\n",
    "                    os.mkdir(f'Turnbull/{patient}/{date}/{gene_name}')\n",
    "                    \n",
    "                try:\n",
    "                    protein_id = seq_feature.qualifiers['protein_id'][0]\n",
    "                except KeyError:\n",
    "                    protein_id = 'no_protein_ID'\n",
    "                    \n",
    "                try:\n",
    "                    protein = seq_feature.qualifiers['translation'][0]\n",
    "                    with open(f'Turnbull/{patient}/{date}/{gene_name}/{file}.fasta', 'w') as fasta_file:\n",
    "                        SeqIO.write(SeqRecord(Seq(protein), id=f'{gene_name}_{day}', description=protein_id), fasta_file, 'fasta')\n",
    "                except KeyError:\n",
    "                    continue"
   ]
  },
  {
   "cell_type": "code",
   "execution_count": 79,
   "metadata": {},
   "outputs": [],
   "source": [
    "for file in le_files:\n",
    "    for seq_record in SeqIO.parse(f'Turnbull/all_gb_files/{file}',\"genbank\"):\n",
    "        for seq_feature in seq_record.features:\n",
    "            #print(seq_feature)\n",
    "            #print(str(seq_feature.location))\n",
    "            if seq_feature.type == 'source':\n",
    "                if int(re.search(r':[\\d]*', str(seq_feature.location))[0][1:]) > 8300:\n",
    "                    \n",
    "                    patient = re.search(r'MM\\d\\d', seq_feature.qualifiers['isolate'][0])[0]\n",
    "                    \n",
    "                    if not os.path.isdir(f'Turnbull/{patient}/genomewide'):\n",
    "                        os.mkdir(f'Turnbull/{patient}/genomewide')\n",
    "                    \n",
    "                    shutil.copyfile(f'Turnbull/all_gb_files/{file}', f'Turnbull/{patient}/genomewide/{file}')\n",
    "                    "
   ]
  },
  {
   "cell_type": "code",
   "execution_count": 80,
   "metadata": {},
   "outputs": [],
   "source": [
    "for date in div_dict.keys():\n",
    "    if not os.path.isdir(f'Yue/{r_463}/LEseq/{date}'):\n",
    "        os.mkdir(f'Yue/{r_463}/LEseq/{date}')\n",
    "    for file in div_dict[date]:\n",
    "        copyfile(f'Yue/{r_463}/LEseq/data/{file}', f'Yue/{r_463}/LEseq/{date}/{file}')"
   ]
  },
  {
   "cell_type": "code",
   "execution_count": 73,
   "metadata": {},
   "outputs": [
    {
     "data": {
      "text/plain": [
       "468"
      ]
     },
     "execution_count": 73,
     "metadata": {},
     "output_type": "execute_result"
    }
   ],
   "source": [
    "int(re.search(r':[\\d]*', '[0:468](+)')[0][1:])"
   ]
  },
  {
   "cell_type": "code",
   "execution_count": 14,
   "metadata": {},
   "outputs": [
    {
     "data": {
      "text/plain": [
       "'MM50'"
      ]
     },
     "execution_count": 14,
     "metadata": {},
     "output_type": "execute_result"
    }
   ],
   "source": [
    "re.search(r'MM\\d\\d', 'MM50d116_PB9')[0]"
   ]
  },
  {
   "cell_type": "code",
   "execution_count": 23,
   "metadata": {},
   "outputs": [
    {
     "data": {
      "text/plain": [
       "Seq('FLALAWDDLRSLCLFSYHRLRDFVSIAARTVELLGRSSLKGLRLGWEALKYLGN...ALL')"
      ]
     },
     "execution_count": 23,
     "metadata": {},
     "output_type": "execute_result"
    }
   ],
   "source": [
    "Seq('FLALAWDDLRSLCLFSYHRLRDFVSIAARTVELLGRSSLKGLRLGWEALKYLGNLLAYWGQELKNSAINLLDTTAIAVANWTDRVIEIGQRAGRAIRNIPTRTRQSIERALL')"
   ]
  },
  {
   "cell_type": "code",
   "execution_count": 21,
   "metadata": {},
   "outputs": [
    {
     "data": {
      "text/plain": [
       "Seq('ATGC')"
      ]
     },
     "execution_count": 21,
     "metadata": {},
     "output_type": "execute_result"
    }
   ],
   "source": [
    "Seq.Seq('ATGC')"
   ]
  },
  {
   "cell_type": "code",
   "execution_count": null,
   "metadata": {},
   "outputs": [],
   "source": []
  }
 ],
 "metadata": {
  "kernelspec": {
   "display_name": "Python 3",
   "language": "python",
   "name": "python3"
  },
  "language_info": {
   "codemirror_mode": {
    "name": "ipython",
    "version": 3
   },
   "file_extension": ".py",
   "mimetype": "text/x-python",
   "name": "python",
   "nbconvert_exporter": "python",
   "pygments_lexer": "ipython3",
   "version": "3.7.4"
  }
 },
 "nbformat": 4,
 "nbformat_minor": 2
}
